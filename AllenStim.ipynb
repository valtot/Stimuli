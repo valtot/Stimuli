{
 "cells": [
  {
   "cell_type": "code",
   "execution_count": 1,
   "source": [
    "import matplotlib.pyplot as plt\r\n",
    "import matplotlib.patches as patches\r\n",
    "%matplotlib inline\r\n",
    "\r\n",
    "def plot_stimulus_table(stim_table, title):\r\n",
    "    fstart = stim_table.start.min()\r\n",
    "    fend = stim_table.end.max()\r\n",
    "    \r\n",
    "    fig = plt.figure(figsize=(15,1))\r\n",
    "    ax = fig.gca()\r\n",
    "    for i, trial in stim_table.iterrows():    \r\n",
    "        x1 = float(trial.start - fstart) / (fend - fstart)\r\n",
    "        x2 = float(trial.end - fstart) / (fend - fstart)            \r\n",
    "        ax.add_patch(patches.Rectangle((x1, 0.0), x2 - x1, 1.0, color='r'))\r\n",
    "    ax.set_xticks((0,1))\r\n",
    "    ax.set_xticklabels((fstart, fend))\r\n",
    "    ax.set_yticks(())\r\n",
    "    ax.set_title(title)\r\n",
    "    ax.set_xlabel(\"frames\")"
   ],
   "outputs": [],
   "metadata": {}
  },
  {
   "cell_type": "code",
   "execution_count": 3,
   "source": [
    "from allensdk.core.brain_observatory_cache import BrainObservatoryCache\r\n",
    "boc = BrainObservatoryCache(manifest_file='boc/manifest.json')\r\n",
    "data_set = boc.get_ophys_experiment_data(505693621)\r\n",
    "\r\n",
    "# read in the locally sparse noise stimulus movie.  \r\n",
    "# the 'mask_offscreen' argument will set off-screen grid locations to LocallySparseNoise.LSN_OFF_SCREEN\r\n",
    "lsn_movie, offscreen_mask = data_set.get_locally_sparse_noise_stimulus_template('locally_sparse_noise',\r\n",
    "                                                                                mask_off_screen=True)\r\n",
    "\r\n"
   ],
   "outputs": [
    {
     "output_type": "stream",
     "name": "stderr",
     "text": [
      "2021-09-20 13:32:42,972 allensdk.api.api.retrieve_file_over_http INFO     Downloading URL: http://api.brain-map.org/api/v2/well_known_file_download/516238128\n"
     ]
    },
    {
     "output_type": "display_data",
     "data": {
      "image/png": "[encoded data removed]",
      "text/plain": [
       "<Figure size 432x288 with 1 Axes>"
      ]
     },
     "metadata": {
      "needs_background": "light"
     }
    }
   ],
   "metadata": {}
  },
  {
   "cell_type": "code",
   "execution_count": 7,
   "source": [
    "# show a single frame of the stimulus for reference\r\n",
    "frame = 2120\r\n",
    "plt.imshow(lsn_movie[frame,:,:], cmap='gray', interpolation='nearest')\r\n",
    "plt.axis('off')\r\n",
    "plt.title('frame %d' % frame)\r\n",
    "plt.show()"
   ],
   "outputs": [
    {
     "output_type": "display_data",
     "data": {
      "image/png": "[encoded data removed]",
      "text/plain": [
       "<Figure size 432x288 with 1 Axes>"
      ]
     },
     "metadata": {
      "needs_background": "light"
     }
    }
   ],
   "metadata": {}
  }
 ],
 "metadata": {
  "orig_nbformat": 4,
  "language_info": {
   "name": "python",
   "version": "3.7.9",
   "mimetype": "text/x-python",
   "codemirror_mode": {
    "name": "ipython",
    "version": 3
   },
   "pygments_lexer": "ipython3",
   "nbconvert_exporter": "python",
   "file_extension": ".py"
  },
  "kernelspec": {
   "name": "python3",
   "display_name": "Python 3.7.9 64-bit ('RiffleShuffle': conda)"
  },
  "interpreter": {
   "hash": "90d65e35f093ebaf6d92f5da6ec591779ced2556b8da2bdc074c601f91254f40"
  }
 },
 "nbformat": 4,
 "nbformat_minor": 2
}