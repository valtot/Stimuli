{
 "cells": [
  {
   "cell_type": "code",
   "execution_count": null,
   "source": [
    "import numpy as np\r\n",
    "\r\n",
    "colors = np.stack(np.random.random(3 * 4)*3, -1)"
   ],
   "outputs": [],
   "metadata": {}
  },
  {
   "cell_type": "code",
   "execution_count": null,
   "source": [
    "import random\r\n",
    "sqr_color =[]\r\n",
    "sqr_xy =[]\r\n",
    "for sqr in range(200):\r\n",
    "    sqr_x = random.uniform(-200,200)\r\n",
    "    sqr_y = random.uniform(-200,200)\r\n",
    "    col = np.repeat(np.random.choice([-1,1]),3,axis= 0)\r\n",
    "    sqr_color.append(col)\r\n",
    "    sqr_xy.append([sqr_x,sqr_y])"
   ],
   "outputs": [],
   "metadata": {}
  },
  {
   "cell_type": "code",
   "execution_count": null,
   "source": [
    "from psychopy import visual, event\r\n",
    "import random\r\n",
    "import numpy as np\r\n",
    "\r\n",
    "\r\n",
    "# win = visual.Window(\r\n",
    "#     [1920,1080],\r\n",
    "#     units = 'deg',\r\n",
    "#     fullscr = Trueq\r\n",
    "# )"
   ],
   "outputs": [],
   "metadata": {}
  },
  {
   "cell_type": "code",
   "execution_count": 9,
   "source": [
    "import numpy as np \r\n",
    "num_sqr = [8,6]\r\n",
    "sqr_size = 4\r\n",
    "hsize = num_sqr[0]*4\r\n",
    "vsize = num_sqr[1]*4\r\n",
    "offset = sqr_size/2\r\n",
    "h_margin = (hsize/2)-offset\r\n",
    "h_coord = np.arange(-h_margin,+h_margin+offset, offset)\r\n",
    "v_margin = (vsize/2)-offset\r\n",
    "v_coord = np.arange(-v_margin,+v_margin, offset)"
   ],
   "outputs": [],
   "metadata": {}
  },
  {
   "cell_type": "code",
   "execution_count": 14,
   "source": [
    "\r\n",
    "num_sqr = [8,6]\r\n",
    "sqr_size = 4\r\n",
    "hsize = num_sqr[0]*4\r\n",
    "vsize = num_sqr[1]*4\r\n",
    "offset = sqr_size/2\r\n",
    "h_margin = (hsize/2)-offset\r\n",
    "h_coord = np.arange(-h_margin,+h_margin+offset, offset)\r\n",
    "v_margin = (vsize/2)-offset\r\n",
    "v_coord = np.arange(-v_margin,+v_margin+offset, offset)\r\n",
    "\r\n",
    "sqr_list = [[[i,j] for i in h_coord] for j in v_coord]"
   ],
   "outputs": [],
   "metadata": {}
  },
  {
   "cell_type": "code",
   "execution_count": 47,
   "source": [
    "num_sqr = [8,6]\r\n",
    "nsqr_stim = 8\r\n",
    "sqr_size = 4\r\n",
    "hsize = num_sqr[0]*4\r\n",
    "vsize = num_sqr[1]*4\r\n",
    "offset = sqr_size/2\r\n",
    "h_margin = (hsize/2)-offset\r\n",
    "h_coord = np.arange(-h_margin,+h_margin+offset, offset)\r\n",
    "v_margin = (vsize/2)-offset\r\n",
    "v_coord = np.arange(-v_margin,+v_margin+offset, offset)\r\n",
    "\r\n",
    "sqr_list = [[[i,j] for i in h_coord] for j in v_coord]"
   ],
   "outputs": [],
   "metadata": {}
  },
  {
   "cell_type": "code",
   "execution_count": 48,
   "source": [
    "sqr_list"
   ],
   "outputs": [
    {
     "output_type": "execute_result",
     "data": {
      "text/plain": [
       "[[[-14.0, -10.0],\n",
       "  [-12.0, -10.0],\n",
       "  [-10.0, -10.0],\n",
       "  [-8.0, -10.0],\n",
       "  [-6.0, -10.0],\n",
       "  [-4.0, -10.0],\n",
       "  [-2.0, -10.0],\n",
       "  [0.0, -10.0],\n",
       "  [2.0, -10.0],\n",
       "  [4.0, -10.0],\n",
       "  [6.0, -10.0],\n",
       "  [8.0, -10.0],\n",
       "  [10.0, -10.0],\n",
       "  [12.0, -10.0],\n",
       "  [14.0, -10.0]],\n",
       " [[-14.0, -8.0],\n",
       "  [-12.0, -8.0],\n",
       "  [-10.0, -8.0],\n",
       "  [-8.0, -8.0],\n",
       "  [-6.0, -8.0],\n",
       "  [-4.0, -8.0],\n",
       "  [-2.0, -8.0],\n",
       "  [0.0, -8.0],\n",
       "  [2.0, -8.0],\n",
       "  [4.0, -8.0],\n",
       "  [6.0, -8.0],\n",
       "  [8.0, -8.0],\n",
       "  [10.0, -8.0],\n",
       "  [12.0, -8.0],\n",
       "  [14.0, -8.0]],\n",
       " [[-14.0, -6.0],\n",
       "  [-12.0, -6.0],\n",
       "  [-10.0, -6.0],\n",
       "  [-8.0, -6.0],\n",
       "  [-6.0, -6.0],\n",
       "  [-4.0, -6.0],\n",
       "  [-2.0, -6.0],\n",
       "  [0.0, -6.0],\n",
       "  [2.0, -6.0],\n",
       "  [4.0, -6.0],\n",
       "  [6.0, -6.0],\n",
       "  [8.0, -6.0],\n",
       "  [10.0, -6.0],\n",
       "  [12.0, -6.0],\n",
       "  [14.0, -6.0]],\n",
       " [[-14.0, -4.0],\n",
       "  [-12.0, -4.0],\n",
       "  [-10.0, -4.0],\n",
       "  [-8.0, -4.0],\n",
       "  [-6.0, -4.0],\n",
       "  [-4.0, -4.0],\n",
       "  [-2.0, -4.0],\n",
       "  [0.0, -4.0],\n",
       "  [2.0, -4.0],\n",
       "  [4.0, -4.0],\n",
       "  [6.0, -4.0],\n",
       "  [8.0, -4.0],\n",
       "  [10.0, -4.0],\n",
       "  [12.0, -4.0],\n",
       "  [14.0, -4.0]],\n",
       " [[-14.0, -2.0],\n",
       "  [-12.0, -2.0],\n",
       "  [-10.0, -2.0],\n",
       "  [-8.0, -2.0],\n",
       "  [-6.0, -2.0],\n",
       "  [-4.0, -2.0],\n",
       "  [-2.0, -2.0],\n",
       "  [0.0, -2.0],\n",
       "  [2.0, -2.0],\n",
       "  [4.0, -2.0],\n",
       "  [6.0, -2.0],\n",
       "  [8.0, -2.0],\n",
       "  [10.0, -2.0],\n",
       "  [12.0, -2.0],\n",
       "  [14.0, -2.0]],\n",
       " [[-14.0, 0.0],\n",
       "  [-12.0, 0.0],\n",
       "  [-10.0, 0.0],\n",
       "  [-8.0, 0.0],\n",
       "  [-6.0, 0.0],\n",
       "  [-4.0, 0.0],\n",
       "  [-2.0, 0.0],\n",
       "  [0.0, 0.0],\n",
       "  [2.0, 0.0],\n",
       "  [4.0, 0.0],\n",
       "  [6.0, 0.0],\n",
       "  [8.0, 0.0],\n",
       "  [10.0, 0.0],\n",
       "  [12.0, 0.0],\n",
       "  [14.0, 0.0]],\n",
       " [[-14.0, 2.0],\n",
       "  [-12.0, 2.0],\n",
       "  [-10.0, 2.0],\n",
       "  [-8.0, 2.0],\n",
       "  [-6.0, 2.0],\n",
       "  [-4.0, 2.0],\n",
       "  [-2.0, 2.0],\n",
       "  [0.0, 2.0],\n",
       "  [2.0, 2.0],\n",
       "  [4.0, 2.0],\n",
       "  [6.0, 2.0],\n",
       "  [8.0, 2.0],\n",
       "  [10.0, 2.0],\n",
       "  [12.0, 2.0],\n",
       "  [14.0, 2.0]],\n",
       " [[-14.0, 4.0],\n",
       "  [-12.0, 4.0],\n",
       "  [-10.0, 4.0],\n",
       "  [-8.0, 4.0],\n",
       "  [-6.0, 4.0],\n",
       "  [-4.0, 4.0],\n",
       "  [-2.0, 4.0],\n",
       "  [0.0, 4.0],\n",
       "  [2.0, 4.0],\n",
       "  [4.0, 4.0],\n",
       "  [6.0, 4.0],\n",
       "  [8.0, 4.0],\n",
       "  [10.0, 4.0],\n",
       "  [12.0, 4.0],\n",
       "  [14.0, 4.0]],\n",
       " [[-14.0, 6.0],\n",
       "  [-12.0, 6.0],\n",
       "  [-10.0, 6.0],\n",
       "  [-8.0, 6.0],\n",
       "  [-6.0, 6.0],\n",
       "  [-4.0, 6.0],\n",
       "  [-2.0, 6.0],\n",
       "  [0.0, 6.0],\n",
       "  [2.0, 6.0],\n",
       "  [4.0, 6.0],\n",
       "  [6.0, 6.0],\n",
       "  [8.0, 6.0],\n",
       "  [10.0, 6.0],\n",
       "  [12.0, 6.0],\n",
       "  [14.0, 6.0]],\n",
       " [[-14.0, 8.0],\n",
       "  [-12.0, 8.0],\n",
       "  [-10.0, 8.0],\n",
       "  [-8.0, 8.0],\n",
       "  [-6.0, 8.0],\n",
       "  [-4.0, 8.0],\n",
       "  [-2.0, 8.0],\n",
       "  [0.0, 8.0],\n",
       "  [2.0, 8.0],\n",
       "  [4.0, 8.0],\n",
       "  [6.0, 8.0],\n",
       "  [8.0, 8.0],\n",
       "  [10.0, 8.0],\n",
       "  [12.0, 8.0],\n",
       "  [14.0, 8.0]],\n",
       " [[-14.0, 10.0],\n",
       "  [-12.0, 10.0],\n",
       "  [-10.0, 10.0],\n",
       "  [-8.0, 10.0],\n",
       "  [-6.0, 10.0],\n",
       "  [-4.0, 10.0],\n",
       "  [-2.0, 10.0],\n",
       "  [0.0, 10.0],\n",
       "  [2.0, 10.0],\n",
       "  [4.0, 10.0],\n",
       "  [6.0, 10.0],\n",
       "  [8.0, 10.0],\n",
       "  [10.0, 10.0],\n",
       "  [12.0, 10.0],\n",
       "  [14.0, 10.0]]]"
      ]
     },
     "metadata": {},
     "execution_count": 48
    }
   ],
   "metadata": {}
  },
  {
   "cell_type": "code",
   "execution_count": 46,
   "source": [
    "type(sqr_x)"
   ],
   "outputs": [
    {
     "output_type": "execute_result",
     "data": {
      "text/plain": [
       "numpy.int32"
      ]
     },
     "metadata": {},
     "execution_count": 46
    }
   ],
   "metadata": {}
  },
  {
   "cell_type": "code",
   "execution_count": 54,
   "source": [
    "num_sqr = [8,6]\r\n",
    "nsqr_stim = 8\r\n",
    "sqr_size = 4\r\n",
    "hsize = num_sqr[0]*4\r\n",
    "vsize = num_sqr[1]*4\r\n",
    "offset = sqr_size/2\r\n",
    "h_margin = (hsize/2)-offset\r\n",
    "h_coord = np.arange(-h_margin,+h_margin+offset, offset)\r\n",
    "v_margin = (vsize/2)-offset\r\n",
    "v_coord = np.arange(-v_margin,+v_margin+offset, offset)\r\n",
    "\r\n",
    "sqr_list = [[[i,j] for i in h_coord] for j in v_coord]\r\n",
    "\r\n",
    "sqr_xy =[]\r\n",
    "sqr_color = []\r\n",
    "\r\n",
    "dist_thr = 10\r\n",
    "sqr_dist = [dist_thr/2]\r\n",
    "\r\n",
    "for sqr in range(nsqr_stim):\r\n",
    "    col = np.repeat(np.random.choice([-1,1]),3,axis= 0)\r\n",
    "    sqr_color.append(col)\r\n",
    "\r\n",
    "    if sqr == 0:\r\n",
    "        sqr_x = np.random.choice(np.arange(len(h_coord))).astype(int)\r\n",
    "        sqr_y = np.random.choice(np.arange(len(v_coord))).astype(int)\r\n",
    "        sqr_xy.append(sqr_list[sqr_x][sqr_y])\r\n",
    "    else:\r\n",
    "        while all(x>dist_thr for x in sqr_dist):\r\n",
    "            sqr_x = np.random.choice(np.arange(len(h_coord))).astype(int)\r\n",
    "            sqr_y = np.random.choice(np.arange(len(v_coord))).astype(int)\r\n",
    "\r\n",
    "            sqr_dist = np.array([math.sqrt((sqr_x-x2)**2+(sqr_y-y2)**2) for x2,y2 in sqr_xy])\r\n",
    "        \r\n",
    "        sqr_xy.append(sqr_list[sqr_x][sqr_y])"
   ],
   "outputs": [
    {
     "output_type": "error",
     "ename": "IndexError",
     "evalue": "list index out of range",
     "traceback": [
      "\u001b[1;31m---------------------------------------------------------------------------\u001b[0m",
      "\u001b[1;31mIndexError\u001b[0m                                Traceback (most recent call last)",
      "\u001b[1;32m<ipython-input-54-ff67c39f22a3>\u001b[0m in \u001b[0;36m<module>\u001b[1;34m\u001b[0m\n\u001b[0;32m     25\u001b[0m         \u001b[0msqr_x\u001b[0m \u001b[1;33m=\u001b[0m \u001b[0mnp\u001b[0m\u001b[1;33m.\u001b[0m\u001b[0mrandom\u001b[0m\u001b[1;33m.\u001b[0m\u001b[0mchoice\u001b[0m\u001b[1;33m(\u001b[0m\u001b[0mnp\u001b[0m\u001b[1;33m.\u001b[0m\u001b[0marange\u001b[0m\u001b[1;33m(\u001b[0m\u001b[0mlen\u001b[0m\u001b[1;33m(\u001b[0m\u001b[0mh_coord\u001b[0m\u001b[1;33m)\u001b[0m\u001b[1;33m)\u001b[0m\u001b[1;33m)\u001b[0m\u001b[1;33m.\u001b[0m\u001b[0mastype\u001b[0m\u001b[1;33m(\u001b[0m\u001b[0mint\u001b[0m\u001b[1;33m)\u001b[0m\u001b[1;33m\u001b[0m\u001b[1;33m\u001b[0m\u001b[0m\n\u001b[0;32m     26\u001b[0m         \u001b[0msqr_y\u001b[0m \u001b[1;33m=\u001b[0m \u001b[0mnp\u001b[0m\u001b[1;33m.\u001b[0m\u001b[0mrandom\u001b[0m\u001b[1;33m.\u001b[0m\u001b[0mchoice\u001b[0m\u001b[1;33m(\u001b[0m\u001b[0mnp\u001b[0m\u001b[1;33m.\u001b[0m\u001b[0marange\u001b[0m\u001b[1;33m(\u001b[0m\u001b[0mlen\u001b[0m\u001b[1;33m(\u001b[0m\u001b[0mv_coord\u001b[0m\u001b[1;33m)\u001b[0m\u001b[1;33m)\u001b[0m\u001b[1;33m)\u001b[0m\u001b[1;33m.\u001b[0m\u001b[0mastype\u001b[0m\u001b[1;33m(\u001b[0m\u001b[0mint\u001b[0m\u001b[1;33m)\u001b[0m\u001b[1;33m\u001b[0m\u001b[1;33m\u001b[0m\u001b[0m\n\u001b[1;32m---> 27\u001b[1;33m         \u001b[0msqr_xy\u001b[0m\u001b[1;33m.\u001b[0m\u001b[0mappend\u001b[0m\u001b[1;33m(\u001b[0m\u001b[0msqr_list\u001b[0m\u001b[1;33m[\u001b[0m\u001b[0msqr_x\u001b[0m\u001b[1;33m]\u001b[0m\u001b[1;33m[\u001b[0m\u001b[0msqr_y\u001b[0m\u001b[1;33m]\u001b[0m\u001b[1;33m)\u001b[0m\u001b[1;33m\u001b[0m\u001b[1;33m\u001b[0m\u001b[0m\n\u001b[0m\u001b[0;32m     28\u001b[0m     \u001b[1;32melse\u001b[0m\u001b[1;33m:\u001b[0m\u001b[1;33m\u001b[0m\u001b[1;33m\u001b[0m\u001b[0m\n\u001b[0;32m     29\u001b[0m         \u001b[1;32mwhile\u001b[0m \u001b[0mall\u001b[0m\u001b[1;33m(\u001b[0m\u001b[0mx\u001b[0m\u001b[1;33m>\u001b[0m\u001b[0mdist_thr\u001b[0m \u001b[1;32mfor\u001b[0m \u001b[0mx\u001b[0m \u001b[1;32min\u001b[0m \u001b[0msqr_dist\u001b[0m\u001b[1;33m)\u001b[0m\u001b[1;33m:\u001b[0m\u001b[1;33m\u001b[0m\u001b[1;33m\u001b[0m\u001b[0m\n",
      "\u001b[1;31mIndexError\u001b[0m: list index out of range"
     ]
    }
   ],
   "metadata": {}
  },
  {
   "cell_type": "code",
   "execution_count": 82,
   "source": [
    "sqr_list[2]"
   ],
   "outputs": [
    {
     "output_type": "execute_result",
     "data": {
      "text/plain": [
       "[[-14.0, -6.0],\n",
       " [-12.0, -6.0],\n",
       " [-10.0, -6.0],\n",
       " [-8.0, -6.0],\n",
       " [-6.0, -6.0],\n",
       " [-4.0, -6.0],\n",
       " [-2.0, -6.0],\n",
       " [0.0, -6.0],\n",
       " [2.0, -6.0],\n",
       " [4.0, -6.0],\n",
       " [6.0, -6.0],\n",
       " [8.0, -6.0],\n",
       " [10.0, -6.0],\n",
       " [12.0, -6.0],\n",
       " [14.0, -6.0]]"
      ]
     },
     "metadata": {},
     "execution_count": 82
    }
   ],
   "metadata": {}
  }
 ],
 "metadata": {
  "orig_nbformat": 4,
  "language_info": {
   "name": "python",
   "version": "3.7.9",
   "mimetype": "text/x-python",
   "codemirror_mode": {
    "name": "ipython",
    "version": 3
   },
   "pygments_lexer": "ipython3",
   "nbconvert_exporter": "python",
   "file_extension": ".py"
  },
  "kernelspec": {
   "name": "python3",
   "display_name": "Python 3.7.9 64-bit ('RiffleShuffle': conda)"
  },
  "interpreter": {
   "hash": "90d65e35f093ebaf6d92f5da6ec591779ced2556b8da2bdc074c601f91254f40"
  }
 },
 "nbformat": 4,
 "nbformat_minor": 2
}